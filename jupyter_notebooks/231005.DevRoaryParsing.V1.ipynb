{
 "cells": [
  {
   "cell_type": "code",
   "execution_count": null,
   "metadata": {},
   "outputs": [],
   "source": []
  },
  {
   "cell_type": "code",
   "execution_count": 131,
   "metadata": {},
   "outputs": [
    {
     "name": "stdout",
     "output_type": "stream",
     "text": [
      "The autoreload extension is already loaded. To reload it, use:\n",
      "  %reload_ext autoreload\n"
     ]
    }
   ],
   "source": [
    "%load_ext autoreload\n",
    "%autoreload 2\n",
    "\n",
    "# import pgqc\n",
    "from pgqc.ava import ava\n",
    "from pgqc.nscluster import clusterBy_KmerJC, summarize_NSClusters\n",
    "from pgqc.utils import parse_PresAbs_CSV_Roary, parse_PresAbs_CSV_Panaroo, get_PG_Stats_FromPresAbs\n",
    "import screed\n",
    "import pandas as pd"
   ]
  },
  {
   "cell_type": "code",
   "execution_count": null,
   "metadata": {},
   "outputs": [],
   "source": []
  },
  {
   "cell_type": "code",
   "execution_count": 132,
   "metadata": {},
   "outputs": [
    {
     "name": "stdout",
     "output_type": "stream",
     "text": [
      "gene_presence_absence.Rtab\n",
      "gene_presence_absence.csv\n",
      "pan_genome_reference.ava.tsv\n",
      "pan_genome_reference.fa\n",
      "pg.ref.ava.tsv\n",
      "summary_statistics.txt\n"
     ]
    }
   ],
   "source": [
    "!ls -1 ../test_data_large/Roary_Default_AllIsolates"
   ]
  },
  {
   "cell_type": "code",
   "execution_count": 133,
   "metadata": {},
   "outputs": [],
   "source": [
    "# Roary out files \n",
    "Roary_Default_OutDir = \"../test_data_large/Roary_Default_AllIsolates\"\n",
    "\n",
    "Roary_PG_Ref_FA = f\"{Roary_Default_OutDir}/pan_genome_reference.fa\"\n",
    "Roary_PresAbs_CSV = f\"{Roary_Default_OutDir}/gene_presence_absence.csv\"\n",
    "Roary_AvA_TSV = f\"{Roary_Default_OutDir}/pan_genome_reference.ava.tsv\"\n",
    "\n",
    "# Panaroo out files\n",
    "Panaroo_Default_OutDir = \"../test_data_large/Panaroo_Moderate_MergeParalogs_AllIsolates\"\n",
    "\n",
    "Panaroo_PG_Ref_FA = f\"{Panaroo_Default_OutDir}/pan_genome_reference.fa\"\n",
    "Panaroo_PresAbs_CSV = f\"{Panaroo_Default_OutDir}/gene_presence_absence.csv\"\n",
    "Panaroo_AvA_TSV = f\"{Panaroo_Default_OutDir}/pan_genome_reference.ava.tsv\"\n",
    "\n"
   ]
  },
  {
   "cell_type": "code",
   "execution_count": 134,
   "metadata": {},
   "outputs": [
    {
     "name": "stdout",
     "output_type": "stream",
     "text": [
      "N0072_00005 dnaA    dnaA\n",
      "N0072_00010 dnaN    dnaN\n",
      "N0072_00015 recF    recF\n",
      "N0072_00020 group_3644    group_3644\n",
      "N0072_00025 gyrB    gyrB\n",
      "N0072_00030 gyrA    gyrA\n",
      "N0072_00035 group_2302    group_2302\n",
      "N0072_00040 putative conserved membrane protein    protein\n",
      "N0072_00055 group_2303    group_2303\n",
      "N0072_00060 group_2304    group_2304\n",
      "N0072_00065 cell wall synthesis protein CwsA    CwsA\n"
     ]
    }
   ],
   "source": [
    "filename = Roary_PG_Ref_FA\n",
    "\n",
    "NumParsedRecords = 0\n",
    "\n",
    "for record in screed.open(filename):\n",
    "\n",
    "    FullName = record.name\n",
    "\n",
    "    ShortName = record.name.split(\" \")[-1]\n",
    "    NumParsedRecords += 1\n",
    "    sequence = record.sequence\n",
    "\n",
    "    print(FullName, \"  \", ShortName)\n",
    "\n",
    "    if NumParsedRecords > 10: break\n",
    "    "
   ]
  },
  {
   "cell_type": "markdown",
   "metadata": {},
   "source": [
    "## Panaroo processing"
   ]
  },
  {
   "cell_type": "code",
   "execution_count": 135,
   "metadata": {},
   "outputs": [],
   "source": [
    "# Panaroo_PG_AvA_DF = ava(Panaroo_PG_Ref_FA, 31)\n",
    "# Panaroo_PG_AvA_DF.to_csv(Panaroo_AvA_TSV, sep = \"\\t\", index=False)\n",
    "# Panaroo_PG_AvA_DF.shape "
   ]
  },
  {
   "cell_type": "code",
   "execution_count": 136,
   "metadata": {},
   "outputs": [
    {
     "data": {
      "text/plain": [
       "(1502, 5)"
      ]
     },
     "execution_count": 136,
     "metadata": {},
     "output_type": "execute_result"
    }
   ],
   "source": [
    "Panaroo_PG_AvA_DF = pd.read_csv(Panaroo_AvA_TSV, sep = \"\\t\")\n",
    "Panaroo_PG_AvA_DF.shape"
   ]
  },
  {
   "cell_type": "code",
   "execution_count": 137,
   "metadata": {},
   "outputs": [
    {
     "name": "stderr",
     "output_type": "stream",
     "text": [
      "/Users/mgmarin/Documents/FarhatLab/GitRepos/pg-ava-kcomp/pgqc/utils.py:13: DtypeWarning: Columns (6,8,10) have mixed types. Specify dtype option on import or set low_memory=False.\n",
      "  i_Gene_PresAbs_DF.columns = [ x.split(\".Bakta\")[0] for x in i_Gene_PresAbs_DF.columns ]\n",
      "/Users/mgmarin/Documents/FarhatLab/GitRepos/pg-ava-kcomp/pgqc/utils.py:23: FutureWarning: DataFrame.applymap has been deprecated. Use DataFrame.map instead.\n",
      "  return i_Gene_PresAbs_DF\n"
     ]
    },
    {
     "name": "stdout",
     "output_type": "stream",
     "text": [
      "(1502, 5) (4292, 160)\n"
     ]
    },
    {
     "name": "stderr",
     "output_type": "stream",
     "text": [
      "/Users/mgmarin/Documents/FarhatLab/GitRepos/pg-ava-kcomp/pgqc/utils.py:24: PerformanceWarning: DataFrame is highly fragmented.  This is usually the result of calling `frame.insert` many times, which has poor performance.  Consider joining all columns at once using pd.concat(axis=1) instead. To get a de-fragmented frame, use `newframe = frame.copy()`\n",
      "  \n"
     ]
    }
   ],
   "source": [
    "Panaroo_PresAbs_DF = parse_PresAbs_CSV_Panaroo(Panaroo_PresAbs_CSV)\n",
    "\n",
    "print(Panaroo_PG_AvA_DF.shape, Panaroo_PresAbs_DF.shape) "
   ]
  },
  {
   "cell_type": "code",
   "execution_count": 138,
   "metadata": {},
   "outputs": [
    {
     "data": {
      "text/html": [
       "<div>\n",
       "<style scoped>\n",
       "    .dataframe tbody tr th:only-of-type {\n",
       "        vertical-align: middle;\n",
       "    }\n",
       "\n",
       "    .dataframe tbody tr th {\n",
       "        vertical-align: top;\n",
       "    }\n",
       "\n",
       "    .dataframe thead th {\n",
       "        text-align: right;\n",
       "    }\n",
       "</style>\n",
       "<table border=\"1\" class=\"dataframe\">\n",
       "  <thead>\n",
       "    <tr style=\"text-align: right;\">\n",
       "      <th></th>\n",
       "      <th>Gene</th>\n",
       "      <th>N0072</th>\n",
       "      <th>N0153</th>\n",
       "      <th>DNA028</th>\n",
       "      <th>N0155</th>\n",
       "      <th>N0145</th>\n",
       "      <th>DNA075</th>\n",
       "      <th>M0003941_3</th>\n",
       "      <th>DNA019_Vash</th>\n",
       "      <th>DNA091</th>\n",
       "      <th>...</th>\n",
       "      <th>MFS-54</th>\n",
       "      <th>MFS-58</th>\n",
       "      <th>MFS-51</th>\n",
       "      <th>MFS-42</th>\n",
       "      <th>MFS-52</th>\n",
       "      <th>MFS-56</th>\n",
       "      <th>MFS-60</th>\n",
       "      <th>MFS-61</th>\n",
       "      <th>MFS-181</th>\n",
       "      <th>NumAsm_WiGene</th>\n",
       "    </tr>\n",
       "    <tr>\n",
       "      <th>Gene</th>\n",
       "      <th></th>\n",
       "      <th></th>\n",
       "      <th></th>\n",
       "      <th></th>\n",
       "      <th></th>\n",
       "      <th></th>\n",
       "      <th></th>\n",
       "      <th></th>\n",
       "      <th></th>\n",
       "      <th></th>\n",
       "      <th></th>\n",
       "      <th></th>\n",
       "      <th></th>\n",
       "      <th></th>\n",
       "      <th></th>\n",
       "      <th></th>\n",
       "      <th></th>\n",
       "      <th></th>\n",
       "      <th></th>\n",
       "      <th></th>\n",
       "      <th></th>\n",
       "    </tr>\n",
       "  </thead>\n",
       "  <tbody>\n",
       "    <tr>\n",
       "      <th>group_3</th>\n",
       "      <td>group_3</td>\n",
       "      <td>1</td>\n",
       "      <td>1</td>\n",
       "      <td>1</td>\n",
       "      <td>1</td>\n",
       "      <td>1</td>\n",
       "      <td>1</td>\n",
       "      <td>1</td>\n",
       "      <td>1</td>\n",
       "      <td>1</td>\n",
       "      <td>...</td>\n",
       "      <td>1</td>\n",
       "      <td>1</td>\n",
       "      <td>1</td>\n",
       "      <td>1</td>\n",
       "      <td>1</td>\n",
       "      <td>1</td>\n",
       "      <td>1</td>\n",
       "      <td>1</td>\n",
       "      <td>1</td>\n",
       "      <td>158</td>\n",
       "    </tr>\n",
       "    <tr>\n",
       "      <th>group_0</th>\n",
       "      <td>group_0</td>\n",
       "      <td>1</td>\n",
       "      <td>1</td>\n",
       "      <td>1</td>\n",
       "      <td>1</td>\n",
       "      <td>1</td>\n",
       "      <td>1</td>\n",
       "      <td>1</td>\n",
       "      <td>1</td>\n",
       "      <td>1</td>\n",
       "      <td>...</td>\n",
       "      <td>1</td>\n",
       "      <td>1</td>\n",
       "      <td>1</td>\n",
       "      <td>1</td>\n",
       "      <td>1</td>\n",
       "      <td>1</td>\n",
       "      <td>1</td>\n",
       "      <td>1</td>\n",
       "      <td>1</td>\n",
       "      <td>158</td>\n",
       "    </tr>\n",
       "    <tr>\n",
       "      <th>mmr</th>\n",
       "      <td>mmr</td>\n",
       "      <td>1</td>\n",
       "      <td>1</td>\n",
       "      <td>1</td>\n",
       "      <td>1</td>\n",
       "      <td>1</td>\n",
       "      <td>1</td>\n",
       "      <td>1</td>\n",
       "      <td>1</td>\n",
       "      <td>1</td>\n",
       "      <td>...</td>\n",
       "      <td>1</td>\n",
       "      <td>1</td>\n",
       "      <td>1</td>\n",
       "      <td>1</td>\n",
       "      <td>1</td>\n",
       "      <td>1</td>\n",
       "      <td>1</td>\n",
       "      <td>1</td>\n",
       "      <td>1</td>\n",
       "      <td>158</td>\n",
       "    </tr>\n",
       "    <tr>\n",
       "      <th>group_11</th>\n",
       "      <td>group_11</td>\n",
       "      <td>1</td>\n",
       "      <td>1</td>\n",
       "      <td>1</td>\n",
       "      <td>1</td>\n",
       "      <td>1</td>\n",
       "      <td>1</td>\n",
       "      <td>1</td>\n",
       "      <td>1</td>\n",
       "      <td>1</td>\n",
       "      <td>...</td>\n",
       "      <td>1</td>\n",
       "      <td>1</td>\n",
       "      <td>1</td>\n",
       "      <td>1</td>\n",
       "      <td>1</td>\n",
       "      <td>1</td>\n",
       "      <td>1</td>\n",
       "      <td>1</td>\n",
       "      <td>1</td>\n",
       "      <td>158</td>\n",
       "    </tr>\n",
       "  </tbody>\n",
       "</table>\n",
       "<p>4 rows × 160 columns</p>\n",
       "</div>"
      ],
      "text/plain": [
       "              Gene  N0072  N0153  DNA028  N0155  N0145  DNA075  M0003941_3  \\\n",
       "Gene                                                                         \n",
       "group_3    group_3      1      1       1      1      1       1           1   \n",
       "group_0    group_0      1      1       1      1      1       1           1   \n",
       "mmr            mmr      1      1       1      1      1       1           1   \n",
       "group_11  group_11      1      1       1      1      1       1           1   \n",
       "\n",
       "          DNA019_Vash  DNA091  ...  MFS-54  MFS-58  MFS-51  MFS-42  MFS-52  \\\n",
       "Gene                           ...                                           \n",
       "group_3             1       1  ...       1       1       1       1       1   \n",
       "group_0             1       1  ...       1       1       1       1       1   \n",
       "mmr                 1       1  ...       1       1       1       1       1   \n",
       "group_11            1       1  ...       1       1       1       1       1   \n",
       "\n",
       "          MFS-56  MFS-60  MFS-61  MFS-181  NumAsm_WiGene  \n",
       "Gene                                                      \n",
       "group_3        1       1       1        1            158  \n",
       "group_0        1       1       1        1            158  \n",
       "mmr            1       1       1        1            158  \n",
       "group_11       1       1       1        1            158  \n",
       "\n",
       "[4 rows x 160 columns]"
      ]
     },
     "execution_count": 138,
     "metadata": {},
     "output_type": "execute_result"
    }
   ],
   "source": [
    "Panaroo_PresAbs_DF.head(4)"
   ]
  },
  {
   "cell_type": "code",
   "execution_count": 139,
   "metadata": {},
   "outputs": [],
   "source": [
    "#Panaroo_PresAbs_DF.columns"
   ]
  },
  {
   "cell_type": "code",
   "execution_count": null,
   "metadata": {},
   "outputs": [],
   "source": []
  },
  {
   "cell_type": "code",
   "execution_count": null,
   "metadata": {},
   "outputs": [],
   "source": []
  },
  {
   "cell_type": "code",
   "execution_count": null,
   "metadata": {},
   "outputs": [],
   "source": []
  },
  {
   "cell_type": "markdown",
   "metadata": {},
   "source": [
    "## Roary processing"
   ]
  },
  {
   "cell_type": "code",
   "execution_count": 140,
   "metadata": {},
   "outputs": [],
   "source": [
    "# Roary_PG_AvA_DF = ava(Roary_PG_Ref_FA, 31)\n",
    "# Roary_PG_AvA_DF.to_csv(Roary_AvA_TSV, sep = \"\\t\", index=False)\n",
    "# Roary_PG_AvA_DF.shape\n"
   ]
  },
  {
   "cell_type": "code",
   "execution_count": 141,
   "metadata": {},
   "outputs": [
    {
     "data": {
      "text/plain": [
       "(7175, 5)"
      ]
     },
     "execution_count": 141,
     "metadata": {},
     "output_type": "execute_result"
    }
   ],
   "source": [
    "Roary_PG_AvA_DF = pd.read_csv(Roary_AvA_TSV, sep = \"\\t\")\n",
    "Roary_PG_AvA_DF.shape"
   ]
  },
  {
   "cell_type": "code",
   "execution_count": 142,
   "metadata": {},
   "outputs": [
    {
     "name": "stderr",
     "output_type": "stream",
     "text": [
      "/Users/mgmarin/Documents/FarhatLab/GitRepos/pg-ava-kcomp/pgqc/utils.py:52: FutureWarning: DataFrame.applymap has been deprecated. Use DataFrame.map instead.\n",
      "  \n"
     ]
    },
    {
     "name": "stdout",
     "output_type": "stream",
     "text": [
      "(7175, 5) (5417, 160)\n"
     ]
    },
    {
     "name": "stderr",
     "output_type": "stream",
     "text": [
      "/Users/mgmarin/Documents/FarhatLab/GitRepos/pg-ava-kcomp/pgqc/utils.py:53: PerformanceWarning: DataFrame is highly fragmented.  This is usually the result of calling `frame.insert` many times, which has poor performance.  Consider joining all columns at once using pd.concat(axis=1) instead. To get a de-fragmented frame, use `newframe = frame.copy()`\n",
      "  \n"
     ]
    }
   ],
   "source": [
    "Roary_PresAbs_DF = parse_PresAbs_CSV_Roary(Roary_PresAbs_CSV)\n",
    "\n",
    "print(Roary_PG_AvA_DF.shape , Roary_PresAbs_DF.shape)"
   ]
  },
  {
   "cell_type": "code",
   "execution_count": 143,
   "metadata": {},
   "outputs": [
    {
     "data": {
      "text/html": [
       "<div>\n",
       "<style scoped>\n",
       "    .dataframe tbody tr th:only-of-type {\n",
       "        vertical-align: middle;\n",
       "    }\n",
       "\n",
       "    .dataframe tbody tr th {\n",
       "        vertical-align: top;\n",
       "    }\n",
       "\n",
       "    .dataframe thead th {\n",
       "        text-align: right;\n",
       "    }\n",
       "</style>\n",
       "<table border=\"1\" class=\"dataframe\">\n",
       "  <thead>\n",
       "    <tr style=\"text-align: right;\">\n",
       "      <th></th>\n",
       "      <th>Gene</th>\n",
       "      <th>01_R1134</th>\n",
       "      <th>01_R1430</th>\n",
       "      <th>02_R0894</th>\n",
       "      <th>02_R1179</th>\n",
       "      <th>02_R1708</th>\n",
       "      <th>02_R1896</th>\n",
       "      <th>18_0621851</th>\n",
       "      <th>3003-06</th>\n",
       "      <th>4549-04</th>\n",
       "      <th>...</th>\n",
       "      <th>mada_129</th>\n",
       "      <th>mada_139</th>\n",
       "      <th>mada_151</th>\n",
       "      <th>mada_2-1</th>\n",
       "      <th>mada_2-25</th>\n",
       "      <th>mada_2-31</th>\n",
       "      <th>mada_2-42</th>\n",
       "      <th>mada_2-46</th>\n",
       "      <th>mada_2-53</th>\n",
       "      <th>NumAsm_WiGene</th>\n",
       "    </tr>\n",
       "    <tr>\n",
       "      <th>Gene</th>\n",
       "      <th></th>\n",
       "      <th></th>\n",
       "      <th></th>\n",
       "      <th></th>\n",
       "      <th></th>\n",
       "      <th></th>\n",
       "      <th></th>\n",
       "      <th></th>\n",
       "      <th></th>\n",
       "      <th></th>\n",
       "      <th></th>\n",
       "      <th></th>\n",
       "      <th></th>\n",
       "      <th></th>\n",
       "      <th></th>\n",
       "      <th></th>\n",
       "      <th></th>\n",
       "      <th></th>\n",
       "      <th></th>\n",
       "      <th></th>\n",
       "      <th></th>\n",
       "    </tr>\n",
       "  </thead>\n",
       "  <tbody>\n",
       "    <tr>\n",
       "      <th>TetR/AcrR family transcriptional regulator</th>\n",
       "      <td>TetR/AcrR family transcriptional regulator</td>\n",
       "      <td>1</td>\n",
       "      <td>1</td>\n",
       "      <td>1</td>\n",
       "      <td>1</td>\n",
       "      <td>1</td>\n",
       "      <td>1</td>\n",
       "      <td>1</td>\n",
       "      <td>1</td>\n",
       "      <td>1</td>\n",
       "      <td>...</td>\n",
       "      <td>1</td>\n",
       "      <td>1</td>\n",
       "      <td>1</td>\n",
       "      <td>1</td>\n",
       "      <td>1</td>\n",
       "      <td>1</td>\n",
       "      <td>1</td>\n",
       "      <td>1</td>\n",
       "      <td>1</td>\n",
       "      <td>158</td>\n",
       "    </tr>\n",
       "    <tr>\n",
       "      <th>group_989</th>\n",
       "      <td>group_989</td>\n",
       "      <td>1</td>\n",
       "      <td>1</td>\n",
       "      <td>1</td>\n",
       "      <td>1</td>\n",
       "      <td>1</td>\n",
       "      <td>1</td>\n",
       "      <td>1</td>\n",
       "      <td>1</td>\n",
       "      <td>1</td>\n",
       "      <td>...</td>\n",
       "      <td>1</td>\n",
       "      <td>1</td>\n",
       "      <td>1</td>\n",
       "      <td>1</td>\n",
       "      <td>1</td>\n",
       "      <td>1</td>\n",
       "      <td>1</td>\n",
       "      <td>1</td>\n",
       "      <td>1</td>\n",
       "      <td>158</td>\n",
       "    </tr>\n",
       "  </tbody>\n",
       "</table>\n",
       "<p>2 rows × 160 columns</p>\n",
       "</div>"
      ],
      "text/plain": [
       "                                                                                  Gene  \\\n",
       "Gene                                                                                     \n",
       "TetR/AcrR family transcriptional regulator  TetR/AcrR family transcriptional regulator   \n",
       "group_989                                                                    group_989   \n",
       "\n",
       "                                            01_R1134  01_R1430  02_R0894  \\\n",
       "Gene                                                                       \n",
       "TetR/AcrR family transcriptional regulator         1         1         1   \n",
       "group_989                                          1         1         1   \n",
       "\n",
       "                                            02_R1179  02_R1708  02_R1896  \\\n",
       "Gene                                                                       \n",
       "TetR/AcrR family transcriptional regulator         1         1         1   \n",
       "group_989                                          1         1         1   \n",
       "\n",
       "                                            18_0621851  3003-06  4549-04  ...  \\\n",
       "Gene                                                                      ...   \n",
       "TetR/AcrR family transcriptional regulator           1        1        1  ...   \n",
       "group_989                                            1        1        1  ...   \n",
       "\n",
       "                                            mada_129  mada_139  mada_151  \\\n",
       "Gene                                                                       \n",
       "TetR/AcrR family transcriptional regulator         1         1         1   \n",
       "group_989                                          1         1         1   \n",
       "\n",
       "                                            mada_2-1  mada_2-25  mada_2-31  \\\n",
       "Gene                                                                         \n",
       "TetR/AcrR family transcriptional regulator         1          1          1   \n",
       "group_989                                          1          1          1   \n",
       "\n",
       "                                            mada_2-42  mada_2-46  mada_2-53  \\\n",
       "Gene                                                                          \n",
       "TetR/AcrR family transcriptional regulator          1          1          1   \n",
       "group_989                                           1          1          1   \n",
       "\n",
       "                                            NumAsm_WiGene  \n",
       "Gene                                                       \n",
       "TetR/AcrR family transcriptional regulator            158  \n",
       "group_989                                             158  \n",
       "\n",
       "[2 rows x 160 columns]"
      ]
     },
     "execution_count": 143,
     "metadata": {},
     "output_type": "execute_result"
    }
   ],
   "source": [
    "Roary_PresAbs_DF.head(2)"
   ]
  },
  {
   "cell_type": "code",
   "execution_count": 144,
   "metadata": {},
   "outputs": [
    {
     "data": {
      "text/plain": [
       "(4485, 160)"
      ]
     },
     "execution_count": 144,
     "metadata": {},
     "output_type": "execute_result"
    }
   ],
   "source": [
    "Roary_PresAbs_NSC_Filt_DF, Roary_GraphInfoDict = clusterBy_KmerJC(Roary_PG_AvA_DF, Roary_PresAbs_DF, 0.8)\n",
    "Roary_PresAbs_NSC_Filt_DF.shape  "
   ]
  },
  {
   "cell_type": "code",
   "execution_count": 145,
   "metadata": {},
   "outputs": [
    {
     "data": {
      "text/html": [
       "<div>\n",
       "<style scoped>\n",
       "    .dataframe tbody tr th:only-of-type {\n",
       "        vertical-align: middle;\n",
       "    }\n",
       "\n",
       "    .dataframe tbody tr th {\n",
       "        vertical-align: top;\n",
       "    }\n",
       "\n",
       "    .dataframe thead th {\n",
       "        text-align: right;\n",
       "    }\n",
       "</style>\n",
       "<table border=\"1\" class=\"dataframe\">\n",
       "  <thead>\n",
       "    <tr style=\"text-align: right;\">\n",
       "      <th></th>\n",
       "      <th>Gene</th>\n",
       "      <th>01_R1134</th>\n",
       "      <th>01_R1430</th>\n",
       "      <th>02_R0894</th>\n",
       "      <th>02_R1179</th>\n",
       "      <th>02_R1708</th>\n",
       "      <th>02_R1896</th>\n",
       "      <th>18_0621851</th>\n",
       "      <th>3003-06</th>\n",
       "      <th>4549-04</th>\n",
       "      <th>...</th>\n",
       "      <th>mada_129</th>\n",
       "      <th>mada_139</th>\n",
       "      <th>mada_151</th>\n",
       "      <th>mada_2-1</th>\n",
       "      <th>mada_2-25</th>\n",
       "      <th>mada_2-31</th>\n",
       "      <th>mada_2-42</th>\n",
       "      <th>mada_2-46</th>\n",
       "      <th>mada_2-53</th>\n",
       "      <th>NumAsm_WiGene</th>\n",
       "    </tr>\n",
       "  </thead>\n",
       "  <tbody>\n",
       "    <tr>\n",
       "      <th>4424</th>\n",
       "      <td>NS_350_group_448---group_449</td>\n",
       "      <td>1</td>\n",
       "      <td>1</td>\n",
       "      <td>1</td>\n",
       "      <td>1</td>\n",
       "      <td>1</td>\n",
       "      <td>1</td>\n",
       "      <td>1</td>\n",
       "      <td>1</td>\n",
       "      <td>1</td>\n",
       "      <td>...</td>\n",
       "      <td>1</td>\n",
       "      <td>1</td>\n",
       "      <td>1</td>\n",
       "      <td>1</td>\n",
       "      <td>1</td>\n",
       "      <td>1</td>\n",
       "      <td>1</td>\n",
       "      <td>1</td>\n",
       "      <td>1</td>\n",
       "      <td>158</td>\n",
       "    </tr>\n",
       "    <tr>\n",
       "      <th>4428</th>\n",
       "      <td>NS_66_group_519---kdpE---kdpD---group_521</td>\n",
       "      <td>1</td>\n",
       "      <td>1</td>\n",
       "      <td>1</td>\n",
       "      <td>1</td>\n",
       "      <td>1</td>\n",
       "      <td>1</td>\n",
       "      <td>1</td>\n",
       "      <td>1</td>\n",
       "      <td>1</td>\n",
       "      <td>...</td>\n",
       "      <td>1</td>\n",
       "      <td>1</td>\n",
       "      <td>1</td>\n",
       "      <td>1</td>\n",
       "      <td>1</td>\n",
       "      <td>1</td>\n",
       "      <td>1</td>\n",
       "      <td>1</td>\n",
       "      <td>1</td>\n",
       "      <td>158</td>\n",
       "    </tr>\n",
       "    <tr>\n",
       "      <th>4429</th>\n",
       "      <td>NS_187_smc---group_1516</td>\n",
       "      <td>1</td>\n",
       "      <td>1</td>\n",
       "      <td>1</td>\n",
       "      <td>1</td>\n",
       "      <td>1</td>\n",
       "      <td>1</td>\n",
       "      <td>1</td>\n",
       "      <td>1</td>\n",
       "      <td>1</td>\n",
       "      <td>...</td>\n",
       "      <td>1</td>\n",
       "      <td>1</td>\n",
       "      <td>1</td>\n",
       "      <td>1</td>\n",
       "      <td>1</td>\n",
       "      <td>1</td>\n",
       "      <td>1</td>\n",
       "      <td>1</td>\n",
       "      <td>1</td>\n",
       "      <td>158</td>\n",
       "    </tr>\n",
       "    <tr>\n",
       "      <th>4430</th>\n",
       "      <td>NS_199_group_1408---group_1407</td>\n",
       "      <td>1</td>\n",
       "      <td>1</td>\n",
       "      <td>1</td>\n",
       "      <td>1</td>\n",
       "      <td>1</td>\n",
       "      <td>1</td>\n",
       "      <td>1</td>\n",
       "      <td>1</td>\n",
       "      <td>1</td>\n",
       "      <td>...</td>\n",
       "      <td>1</td>\n",
       "      <td>1</td>\n",
       "      <td>1</td>\n",
       "      <td>1</td>\n",
       "      <td>1</td>\n",
       "      <td>1</td>\n",
       "      <td>1</td>\n",
       "      <td>1</td>\n",
       "      <td>1</td>\n",
       "      <td>158</td>\n",
       "    </tr>\n",
       "  </tbody>\n",
       "</table>\n",
       "<p>4 rows × 160 columns</p>\n",
       "</div>"
      ],
      "text/plain": [
       "                                           Gene  01_R1134  01_R1430  02_R0894  \\\n",
       "4424               NS_350_group_448---group_449         1         1         1   \n",
       "4428  NS_66_group_519---kdpE---kdpD---group_521         1         1         1   \n",
       "4429                    NS_187_smc---group_1516         1         1         1   \n",
       "4430             NS_199_group_1408---group_1407         1         1         1   \n",
       "\n",
       "      02_R1179  02_R1708  02_R1896  18_0621851  3003-06  4549-04  ...  \\\n",
       "4424         1         1         1           1        1        1  ...   \n",
       "4428         1         1         1           1        1        1  ...   \n",
       "4429         1         1         1           1        1        1  ...   \n",
       "4430         1         1         1           1        1        1  ...   \n",
       "\n",
       "      mada_129  mada_139  mada_151  mada_2-1  mada_2-25  mada_2-31  mada_2-42  \\\n",
       "4424         1         1         1         1          1          1          1   \n",
       "4428         1         1         1         1          1          1          1   \n",
       "4429         1         1         1         1          1          1          1   \n",
       "4430         1         1         1         1          1          1          1   \n",
       "\n",
       "      mada_2-46  mada_2-53  NumAsm_WiGene  \n",
       "4424          1          1            158  \n",
       "4428          1          1            158  \n",
       "4429          1          1            158  \n",
       "4430          1          1            158  \n",
       "\n",
       "[4 rows x 160 columns]"
      ]
     },
     "execution_count": 145,
     "metadata": {},
     "output_type": "execute_result"
    }
   ],
   "source": [
    "Roary_PresAbs_NSC_Filt_DF.head(4)"
   ]
  },
  {
   "cell_type": "code",
   "execution_count": 146,
   "metadata": {},
   "outputs": [
    {
     "name": "stdout",
     "output_type": "stream",
     "text": [
      "Accessory Thresh: 156.42\n",
      "# of core genes: 3492\n",
      "# of accessory genes: 1925\n"
     ]
    },
    {
     "data": {
      "text/plain": [
       "(5417, 3492, 1925)"
      ]
     },
     "execution_count": 146,
     "metadata": {},
     "output_type": "execute_result"
    }
   ],
   "source": [
    "get_PG_Stats_FromPresAbs(Roary_PresAbs_DF, 158)    "
   ]
  },
  {
   "cell_type": "code",
   "execution_count": 147,
   "metadata": {},
   "outputs": [
    {
     "name": "stdout",
     "output_type": "stream",
     "text": [
      "Accessory Thresh: 156.42\n",
      "# of core genes: 3695\n",
      "# of accessory genes: 790\n"
     ]
    },
    {
     "data": {
      "text/plain": [
       "(4485, 3695, 790)"
      ]
     },
     "execution_count": 147,
     "metadata": {},
     "output_type": "execute_result"
    }
   ],
   "source": [
    "get_PG_Stats_FromPresAbs(Roary_PresAbs_NSC_Filt_DF, 158)"
   ]
  },
  {
   "cell_type": "code",
   "execution_count": null,
   "metadata": {},
   "outputs": [],
   "source": []
  },
  {
   "cell_type": "code",
   "execution_count": 148,
   "metadata": {},
   "outputs": [
    {
     "data": {
      "text/plain": [
       "(4127, 160)"
      ]
     },
     "execution_count": 148,
     "metadata": {},
     "output_type": "execute_result"
    }
   ],
   "source": [
    "Panaroo_PresAbs_NSC_Filt_DF, Panaroo_GraphInfoDict = clusterBy_KmerJC(Panaroo_PG_AvA_DF, Panaroo_PresAbs_DF, 0.8)\n",
    "Panaroo_PresAbs_NSC_Filt_DF.shape"
   ]
  },
  {
   "cell_type": "code",
   "execution_count": 149,
   "metadata": {},
   "outputs": [
    {
     "name": "stdout",
     "output_type": "stream",
     "text": [
      "# NucSim Clusters: 124\n",
      "# of total clustered genes: 289\n",
      "# of NS clusters w/ only Core genes: 5\n",
      "# of NS clusters w/ only Accessory genes: 29\n",
      "# of NS clusters w/ BOTH Core & Accessory genes: 90\n"
     ]
    }
   ],
   "source": [
    "\n",
    "Panaroo_CoreGenes_List = Panaroo_PresAbs_DF.query(\"NumAsm_WiGene >= 157\")[\"Gene\"].values\n",
    "Panaroo_Filt08_Cluster_WiType_DF, Panaroo_Filt08_ClusterType_Count = summarize_NSClusters(Panaroo_GraphInfoDict[\"Filt_Cluster_DF\"],\n",
    "                                                                                          Panaroo_CoreGenes_List)"
   ]
  },
  {
   "cell_type": "code",
   "execution_count": 150,
   "metadata": {},
   "outputs": [
    {
     "name": "stdout",
     "output_type": "stream",
     "text": [
      "# NucSim Clusters: 542\n",
      "# of total clustered genes: 1555\n",
      "# of NS clusters w/ only Core genes: 8\n",
      "# of NS clusters w/ only Accessory genes: 325\n",
      "# of NS clusters w/ BOTH Core & Accessory genes: 209\n"
     ]
    }
   ],
   "source": [
    "Roary_CoreGenes_List = Roary_PresAbs_DF.query(\"NumAsm_WiGene >= 157\")[\"Gene\"].values\n",
    "Roary_Filt08_Cluster_WiType_DF, Roary_Filt08_ClusterType_Count = summarize_NSClusters(Roary_GraphInfoDict[\"Filt_Cluster_DF\"],\n",
    "                                                                                      Roary_CoreGenes_List)"
   ]
  },
  {
   "cell_type": "code",
   "execution_count": null,
   "metadata": {},
   "outputs": [],
   "source": []
  },
  {
   "cell_type": "code",
   "execution_count": null,
   "metadata": {},
   "outputs": [],
   "source": []
  },
  {
   "cell_type": "code",
   "execution_count": null,
   "metadata": {},
   "outputs": [],
   "source": []
  },
  {
   "cell_type": "code",
   "execution_count": null,
   "metadata": {},
   "outputs": [],
   "source": []
  },
  {
   "cell_type": "code",
   "execution_count": null,
   "metadata": {},
   "outputs": [],
   "source": []
  }
 ],
 "metadata": {
  "kernelspec": {
   "display_name": ".venv",
   "language": "python",
   "name": "python3"
  },
  "language_info": {
   "codemirror_mode": {
    "name": "ipython",
    "version": 3
   },
   "file_extension": ".py",
   "mimetype": "text/x-python",
   "name": "python",
   "nbconvert_exporter": "python",
   "pygments_lexer": "ipython3",
   "version": "3.10.12"
  }
 },
 "nbformat": 4,
 "nbformat_minor": 2
}
